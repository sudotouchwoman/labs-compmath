{
 "cells": [
  {
   "cell_type": "code",
   "execution_count": null,
   "metadata": {},
   "outputs": [],
   "source": [
    "import numpy as np\n",
    "import pandas as pd\n",
    "import matplotlib.pyplot as plt\n",
    "import seaborn as sns\n",
    "%matplotlib notebook"
   ]
  },
  {
   "cell_type": "code",
   "execution_count": null,
   "metadata": {},
   "outputs": [],
   "source": [
    "sns.set(rc={'figure.figsize':(20,12), 'figure.dpi':300})"
   ]
  },
  {
   "cell_type": "code",
   "execution_count": null,
   "metadata": {},
   "outputs": [],
   "source": [
    "# set parameters and constants\n",
    "a = 3\n",
    "b = 2\n",
    "C = 0\n",
    "t_0 = -4\n",
    "t_n = 4\n",
    "h = 2e-1"
   ]
  },
  {
   "cell_type": "code",
   "execution_count": null,
   "metadata": {},
   "outputs": [],
   "source": [
    "sigmoid = lambda t: a / (np.exp(-a*t-C) + b)  # expression of analytical solution"
   ]
  },
  {
   "cell_type": "code",
   "execution_count": null,
   "metadata": {},
   "outputs": [],
   "source": [
    "def numerical_solution(t, w_0, h):  # function for numeric solution\n",
    "  w_i = w_0\n",
    "  w_next = lambda w: w + h * (a*w - b*w**2 + h/2*(a - 2*b*w)*(a*w - b*w**2))\n",
    "  yield w_0\n",
    "  for i, t_i in enumerate(t[1:]):\n",
    "    w_i = w_next(w_i)\n",
    "    yield w_i"
   ]
  },
  {
   "cell_type": "code",
   "execution_count": null,
   "metadata": {},
   "outputs": [],
   "source": [
    "t_ = np.arange(t_0, t_n + h, h)\n",
    "analytical = sigmoid(t_)\n",
    "numerical = list(numerical_solution(t_, analytical[0], h))"
   ]
  },
  {
   "cell_type": "code",
   "execution_count": null,
   "metadata": {},
   "outputs": [],
   "source": [
    "plt.plot(t_, analytical, color='#A24CC2', label='Analytical sigmoid')\n",
    "plt.scatter(t_, numerical, alpha=.8, c='#58F380', label='Numerical solution')\n",
    "plt.legend(loc='best')\n",
    "plt.show()"
   ]
  },
  {
   "cell_type": "code",
   "execution_count": null,
   "metadata": {},
   "outputs": [],
   "source": [
    "plt.plot(t_, (analytical - numerical), color='#F25A40', label='Absolute error of solution', linestyle=':', marker='o')\n",
    "plt.legend(loc='best')\n",
    "plt.show()"
   ]
  },
  {
   "cell_type": "code",
   "execution_count": null,
   "metadata": {},
   "outputs": [],
   "source": [
    "pd.DataFrame({'t':(t_.round(1)), 'error':(analytical - numerical)})"
   ]
  }
 ],
 "metadata": {
  "language_info": {
   "name": "python"
  },
  "orig_nbformat": 4
 },
 "nbformat": 4,
 "nbformat_minor": 2
}
